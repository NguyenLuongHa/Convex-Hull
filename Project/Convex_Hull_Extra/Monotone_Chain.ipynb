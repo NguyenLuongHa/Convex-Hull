{
 "cells": [
  {
   "cell_type": "markdown",
   "metadata": {},
   "source": [
    "#  **The Convex Hull problem**"
   ]
  },
  {
   "cell_type": "code",
   "execution_count": 1,
   "metadata": {},
   "outputs": [],
   "source": [
    "from __future__ import division, print_function\n",
    "\n",
    "%matplotlib inline \n",
    "import matplotlib.pyplot as plt\n",
    "import pandas as pd\n",
    "\n",
    "import collections\n",
    "import random\n",
    "import math\n",
    "import time"
   ]
  },
  {
   "cell_type": "markdown",
   "metadata": {},
   "source": [
    "Define funtion"
   ]
  },
  {
   "cell_type": "code",
   "execution_count": 2,
   "metadata": {},
   "outputs": [],
   "source": [
    "# Distance-determined function\n",
    "from cmath import sqrt\n",
    "\n",
    "def distance(A, B):\n",
    "    dis = sqrt((B.x - A.x)**2 + (A.y - B.y)**2) \n",
    "    return dis"
   ]
  },
  {
   "cell_type": "code",
   "execution_count": 3,
   "metadata": {},
   "outputs": [],
   "source": [
    "# Turn-determined function\n",
    "def turn(A, B, C):\n",
    "    diff = (B.x - A.x) * (C.y - B.y)  -  (B.y - A.y) * (C.x - B.x) \n",
    "    return ('right' if diff < 0 else\n",
    "            'left'  if diff > 0 else\n",
    "            'straight')"
   ]
  },
  {
   "cell_type": "markdown",
   "metadata": {},
   "source": [
    "Point of data\n"
   ]
  },
  {
   "cell_type": "code",
   "execution_count": 4,
   "metadata": {},
   "outputs": [],
   "source": [
    "Point = collections.namedtuple('Point', 'x, y')\n",
    "def Points(data,eliminate_rate):\n",
    "    points = set()\n",
    "    top = data.quantile(1-eliminate_rate)\n",
    "    bottom = data.quantile(eliminate_rate)\n",
    "    for i in range(len(data)):\n",
    "        if ((data.loc[i].at['X']<=top['X'])&(data.loc[i].at['X']>=bottom['X'])\n",
    "        &(data.loc[i].at['Y']<=top['Y'])&(data.loc[i].at['Y']>=bottom['Y'])):\n",
    "            points.add(Point(data.loc[i].at['X'],data.loc[i].at['Y']))\n",
    "    return points"
   ]
  },
  {
   "cell_type": "markdown",
   "metadata": {},
   "source": [
    "Plot function:"
   ]
  },
  {
   "cell_type": "code",
   "execution_count": 5,
   "metadata": {},
   "outputs": [],
   "source": [
    "def plot_points(points, style='r.',labels=False, closed=False):\n",
    "    if labels:\n",
    "        for (i, (x, y)) in enumerate(points):\n",
    "            plt.text(x, y, ' '+str(i))\n",
    "    if closed:\n",
    "        points = points + [points[0]]\n",
    "    plt.plot([p.x for p in points], [p.y for p in points], style, linewidth = 2.5)\n",
    "    #plt.show()\n",
    "    if closed==False: \n",
    "        print(\"Size of point: \", len(points))\n",
    "    else:\n",
    "        print(\"Size of hull: \", len(points)-1)\n",
    "\n",
    "    plt.axis('scaled'); plt.axis('off')"
   ]
  },
  {
   "cell_type": "code",
   "execution_count": 6,
   "metadata": {},
   "outputs": [],
   "source": [
    "def plot_partial_hull(points, hull_indexes=()):\n",
    "    \"Plot the points, labeled, with a blue line for the points named by indexes.\"\n",
    "    plot_points(points, labels=True)\n",
    "    plot_points([points[i] for i in hull_indexes], 'bs-')"
   ]
  },
  {
   "cell_type": "code",
   "execution_count": 7,
   "metadata": {},
   "outputs": [],
   "source": [
    "def plot_convex_hull(points):\n",
    "    \"Show a plot.\"\n",
    "    plot_points(points, 'bs-', closed=True)"
   ]
  },
  {
   "cell_type": "markdown",
   "metadata": {},
   "source": [
    "Algorithm: "
   ]
  },
  {
   "cell_type": "markdown",
   "metadata": {},
   "source": [
    "<img src=\"angle.png\">"
   ]
  },
  {
   "cell_type": "code",
   "execution_count": 8,
   "metadata": {},
   "outputs": [],
   "source": [
    "def len_hull(hull_indexes=()):\n",
    "    len = 0\n",
    "    pre = Point(0,0)\n",
    "    for i in hull_indexes:\n",
    "        len += distance(pre,i)\n",
    "        pre = i\n",
    "    return len - distance(Point(0,0),hull_indexes[1])"
   ]
  },
  {
   "cell_type": "code",
   "execution_count": 9,
   "metadata": {},
   "outputs": [],
   "source": [
    "def convex_hull(points):\n",
    "    start_time = time.time()\n",
    "    if len(points) <= 3:\n",
    "        return points\n",
    "    # Find the two half-hulls and append them, but don't repeat first and last points\n",
    "    upper = half_hull(sorted(points))\n",
    "    lower = half_hull(reversed(sorted(points)))\n",
    "    length = len_hull(upper) +len_hull(lower)\n",
    "    print(length)\n",
    "    end_time = time.time()\n",
    "    print(end_time-start_time)\n",
    "    return upper + lower[1:-1]\n",
    "\n",
    "\n",
    "def half_hull(sorted_points):\n",
    "    \"Return the half-hull from following points in sorted order.\"\n",
    "    # Add each point C in order; remove previous point B if A->B-C is not a left turn.\n",
    "    hull = []\n",
    "    for C in sorted_points:\n",
    "        # if A->B->C is not a left turn ...\n",
    "        while len(hull) >= 2 and turn(hull[-2], hull[-1], C) != 'left':\n",
    "            hull.pop() # ... then remove B from hull.\n",
    "        hull.append(C)\n",
    "    return hull"
   ]
  }
 ],
 "metadata": {
  "kernelspec": {
   "display_name": "Python 3.10.4 64-bit",
   "language": "python",
   "name": "python3"
  },
  "language_info": {
   "codemirror_mode": {
    "name": "ipython",
    "version": 3
   },
   "file_extension": ".py",
   "mimetype": "text/x-python",
   "name": "python",
   "nbconvert_exporter": "python",
   "pygments_lexer": "ipython3",
   "version": "3.10.4"
  },
  "orig_nbformat": 4,
  "vscode": {
   "interpreter": {
    "hash": "d3e10ef16274dd72e574b8fa73b58450b957d8421a2901baded3cca26fcf5dda"
   }
  }
 },
 "nbformat": 4,
 "nbformat_minor": 2
}
